{
 "cells": [
  {
   "cell_type": "code",
   "execution_count": 1,
   "id": "8b637204",
   "metadata": {
    "_cell_guid": "b1076dfc-b9ad-4769-8c92-a6c4dae69d19",
    "_uuid": "8f2839f25d086af736a60e9eeb907d3b93b6e0e5",
    "execution": {
     "iopub.execute_input": "2022-01-23T17:53:48.262479Z",
     "iopub.status.busy": "2022-01-23T17:53:48.261360Z",
     "iopub.status.idle": "2022-01-23T17:53:50.302087Z",
     "shell.execute_reply": "2022-01-23T17:53:50.301472Z",
     "shell.execute_reply.started": "2022-01-23T17:42:14.310079Z"
    },
    "papermill": {
     "duration": 2.05374,
     "end_time": "2022-01-23T17:53:50.302266",
     "exception": false,
     "start_time": "2022-01-23T17:53:48.248526",
     "status": "completed"
    },
    "tags": []
   },
   "outputs": [
    {
     "data": {
      "text/html": [
       "<style type='text/css'>\n",
       ".datatable table.frame { margin-bottom: 0; }\n",
       ".datatable table.frame thead { border-bottom: none; }\n",
       ".datatable table.frame tr.coltypes td {  color: #FFFFFF;  line-height: 6px;  padding: 0 0.5em;}\n",
       ".datatable .bool    { background: #DDDD99; }\n",
       ".datatable .object  { background: #565656; }\n",
       ".datatable .int     { background: #5D9E5D; }\n",
       ".datatable .float   { background: #4040CC; }\n",
       ".datatable .str     { background: #CC4040; }\n",
       ".datatable .time    { background: #40CC40; }\n",
       ".datatable .row_index {  background: var(--jp-border-color3);  border-right: 1px solid var(--jp-border-color0);  color: var(--jp-ui-font-color3);  font-size: 9px;}\n",
       ".datatable .frame tbody td { text-align: left; }\n",
       ".datatable .frame tr.coltypes .row_index {  background: var(--jp-border-color0);}\n",
       ".datatable th:nth-child(2) { padding-left: 12px; }\n",
       ".datatable .hellipsis {  color: var(--jp-cell-editor-border-color);}\n",
       ".datatable .vellipsis {  background: var(--jp-layout-color0);  color: var(--jp-cell-editor-border-color);}\n",
       ".datatable .na {  color: var(--jp-cell-editor-border-color);  font-size: 80%;}\n",
       ".datatable .sp {  opacity: 0.25;}\n",
       ".datatable .footer { font-size: 9px; }\n",
       ".datatable .frame_dimensions {  background: var(--jp-border-color3);  border-top: 1px solid var(--jp-border-color0);  color: var(--jp-ui-font-color3);  display: inline-block;  opacity: 0.6;  padding: 1px 10px 1px 5px;}\n",
       "</style>\n"
      ],
      "text/plain": [
       "<IPython.core.display.HTML object>"
      ]
     },
     "metadata": {},
     "output_type": "display_data"
    },
    {
     "name": "stdout",
     "output_type": "stream",
     "text": [
      "/kaggle/input/techuklon-int20h/Samle_Submission.csv\n",
      "/kaggle/input/techuklon-int20h/train.csv\n",
      "/kaggle/input/techuklon-int20h/test.csv\n"
     ]
    }
   ],
   "source": [
    "import numpy as np\n",
    "import pandas as pd\n",
    "\n",
    "import matplotlib.pyplot as plt\n",
    "import seaborn as sns\n",
    "\n",
    "import lightgbm as lgbm\n",
    "from sklearn.metrics import roc_auc_score\n",
    "from sklearn.model_selection import StratifiedKFold\n",
    "\n",
    "RANDOM_STATE = 42\n",
    "\n",
    "import os\n",
    "for dirname, _, filenames in os.walk('/kaggle/input'):\n",
    "    for filename in filenames:\n",
    "        print(os.path.join(dirname, filename))"
   ]
  },
  {
   "cell_type": "code",
   "execution_count": 2,
   "id": "5f2e923e",
   "metadata": {
    "execution": {
     "iopub.execute_input": "2022-01-23T17:53:50.329602Z",
     "iopub.status.busy": "2022-01-23T17:53:50.329026Z",
     "iopub.status.idle": "2022-01-23T17:53:51.044281Z",
     "shell.execute_reply": "2022-01-23T17:53:51.044690Z",
     "shell.execute_reply.started": "2022-01-23T17:42:15.017075Z"
    },
    "papermill": {
     "duration": 0.73209,
     "end_time": "2022-01-23T17:53:51.044828",
     "exception": false,
     "start_time": "2022-01-23T17:53:50.312738",
     "status": "completed"
    },
    "tags": []
   },
   "outputs": [
    {
     "name": "stdout",
     "output_type": "stream",
     "text": [
      "--2022-01-23 17:53:50--  https://github.com/andrii0yerko/INT20H-2022-Hackathon/blob/main/data/kfold.pkl?raw=true\r\n",
      "Resolving github.com (github.com)... 140.82.114.3\r\n",
      "Connecting to github.com (github.com)|140.82.114.3|:443... connected.\r\n",
      "HTTP request sent, awaiting response... 302 Found\r\n",
      "Location: https://github.com/andrii0yerko/INT20H-2022-Hackathon/raw/main/data/kfold.pkl [following]\r\n",
      "--2022-01-23 17:53:50--  https://github.com/andrii0yerko/INT20H-2022-Hackathon/raw/main/data/kfold.pkl\r\n",
      "Reusing existing connection to github.com:443.\r\n",
      "HTTP request sent, awaiting response... 302 Found\r\n",
      "Location: https://raw.githubusercontent.com/andrii0yerko/INT20H-2022-Hackathon/main/data/kfold.pkl [following]\r\n",
      "--2022-01-23 17:53:50--  https://raw.githubusercontent.com/andrii0yerko/INT20H-2022-Hackathon/main/data/kfold.pkl\r\n",
      "Resolving raw.githubusercontent.com (raw.githubusercontent.com)... 185.199.109.133, 185.199.110.133, 185.199.111.133, ...\r\n",
      "Connecting to raw.githubusercontent.com (raw.githubusercontent.com)|185.199.109.133|:443... connected.\r\n",
      "HTTP request sent, awaiting response... 200 OK\r\n",
      "Length: 309805 (303K) [application/octet-stream]\r\n",
      "Saving to: ‘kfold.pkl’\r\n",
      "\r\n",
      "kfold.pkl           100%[===================>] 302.54K  --.-KB/s    in 0.03s   \r\n",
      "\r\n",
      "2022-01-23 17:53:50 (9.01 MB/s) - ‘kfold.pkl’ saved [309805/309805]\r\n",
      "\r\n"
     ]
    }
   ],
   "source": [
    "!wget https://github.com/andrii0yerko/INT20H-2022-Hackathon/blob/main/data/kfold.pkl?raw=true -O kfold.pkl\n",
    "kf = pd.read_pickle('kfold.pkl')[['train_idx', 'test_idx']].to_records(index=False)"
   ]
  },
  {
   "cell_type": "code",
   "execution_count": 3,
   "id": "2dd00299",
   "metadata": {
    "execution": {
     "iopub.execute_input": "2022-01-23T17:53:51.067215Z",
     "iopub.status.busy": "2022-01-23T17:53:51.066758Z",
     "iopub.status.idle": "2022-01-23T17:53:51.665422Z",
     "shell.execute_reply": "2022-01-23T17:53:51.665003Z",
     "shell.execute_reply.started": "2022-01-23T17:42:17.566268Z"
    },
    "papermill": {
     "duration": 0.611964,
     "end_time": "2022-01-23T17:53:51.665528",
     "exception": false,
     "start_time": "2022-01-23T17:53:51.053564",
     "status": "completed"
    },
    "tags": []
   },
   "outputs": [],
   "source": [
    "INPUT_DIR = '/kaggle/input/techuklon-int20h'\n",
    "\n",
    "train = pd.read_csv(f'{INPUT_DIR}/train.csv')\n",
    "test = pd.read_csv(f'{INPUT_DIR}/test.csv')"
   ]
  },
  {
   "cell_type": "code",
   "execution_count": 4,
   "id": "86d66765",
   "metadata": {
    "execution": {
     "iopub.execute_input": "2022-01-23T17:53:51.692860Z",
     "iopub.status.busy": "2022-01-23T17:53:51.692331Z",
     "iopub.status.idle": "2022-01-23T17:53:51.748343Z",
     "shell.execute_reply": "2022-01-23T17:53:51.747907Z",
     "shell.execute_reply.started": "2022-01-23T17:42:27.062952Z"
    },
    "papermill": {
     "duration": 0.073904,
     "end_time": "2022-01-23T17:53:51.748463",
     "exception": false,
     "start_time": "2022-01-23T17:53:51.674559",
     "status": "completed"
    },
    "tags": []
   },
   "outputs": [],
   "source": [
    "all_data = pd.concat((train, test))\n",
    "\n",
    "indicators = all_data.drop(columns=['Id', 'Week', 'target']).isna()\n",
    "indicators.columns = indicators.columns.map(lambda s: s+'_isna')\n",
    "\n",
    "all_data_with_ind = pd.concat((all_data, indicators), axis=1)\n",
    "\n",
    "train_indic = all_data_with_ind[~all_data_with_ind['target'].isna()].fillna(-1)\n",
    "test_indic = all_data_with_ind[all_data_with_ind['target'].isna()].drop(columns=['target']).fillna(-1)"
   ]
  },
  {
   "cell_type": "code",
   "execution_count": 5,
   "id": "020a336d",
   "metadata": {
    "execution": {
     "iopub.execute_input": "2022-01-23T17:53:51.784659Z",
     "iopub.status.busy": "2022-01-23T17:53:51.783490Z",
     "iopub.status.idle": "2022-01-23T17:53:51.785177Z",
     "shell.execute_reply": "2022-01-23T17:53:51.785540Z",
     "shell.execute_reply.started": "2022-01-23T17:43:13.845914Z"
    },
    "papermill": {
     "duration": 0.028057,
     "end_time": "2022-01-23T17:53:51.785670",
     "exception": false,
     "start_time": "2022-01-23T17:53:51.757613",
     "status": "completed"
    },
    "tags": []
   },
   "outputs": [],
   "source": [
    "def kfold_loop(X, y, groups, kf, X_test=None, loop_verbose=0, model=None, fit_callbacks=[], *lgbm_args, **lgbm_kwargs):\n",
    "    if model is None:\n",
    "        model = lgbm.LGBMClassifier(\n",
    "            verbose=-1,\n",
    "            *lgbm_args, **lgbm_kwargs\n",
    "        )\n",
    "    oof_pred = []\n",
    "    oof_pred_train = pd.Series(index=y.index, dtype='float64')\n",
    "    scores = []\n",
    "    for fold, (train_idx, test_idx) in enumerate(kf):\n",
    "        \n",
    "        train_idx = groups.isin(train_idx)\n",
    "        test_idx = groups.isin(test_idx)\n",
    "        _X_train = X[train_idx]\n",
    "        _X_val = X[test_idx]\n",
    "        _y_train = y[train_idx]\n",
    "        _y_val = y[test_idx]\n",
    "                \n",
    "        if loop_verbose > 1:\n",
    "            print(f'--- FOLD {fold+1} ---')\n",
    "        try: # LGBM-specific\n",
    "            model.fit(\n",
    "                _X_train, _y_train,\n",
    "                eval_set=(_X_val, _y_val),\n",
    "                callbacks=[lgbm.log_evaluation(period=0)] + fit_callbacks\n",
    "            )\n",
    "        except TypeError: # sklearn general\n",
    "            model.fit(_X_train, _y_train)\n",
    "        \n",
    "        # fold_acc = (model.predict(_X_val) == _y_val).mean()\n",
    "        _y_pred = model.predict_proba(_X_val)[:, 1]\n",
    "        \n",
    "        oof_pred_train[test_idx] = _y_pred\n",
    "        \n",
    "        true_labels = pd.Series(_y_val).groupby(groups[test_idx]).mean()\n",
    "        pred_labels = pd.Series(_y_pred, index=_y_val.index).groupby(groups[test_idx]).mean()\n",
    "        fold_score = roc_auc_score(true_labels, pred_labels)\n",
    "        if loop_verbose > 1:\n",
    "            print(f'\\tAUC score: {fold_score:.5f}')\n",
    "        scores.append(fold_score)\n",
    "        if X_test is not None:\n",
    "            oof_pred.append(model.predict_proba(X_test)[:, 1])\n",
    "    if loop_verbose > 0:\n",
    "        print(f'fold-mean AUC score: {np.mean(scores):.5f}\\t fold-std AUC score: {np.std(scores):.5f}\\n')\n",
    "    return np.array(oof_pred).T, np.mean(scores), np.std(scores), oof_pred_train, model"
   ]
  },
  {
   "cell_type": "code",
   "execution_count": 6,
   "id": "47041ace",
   "metadata": {
    "execution": {
     "iopub.execute_input": "2022-01-23T17:53:51.818836Z",
     "iopub.status.busy": "2022-01-23T17:53:51.818380Z",
     "iopub.status.idle": "2022-01-23T17:53:58.968773Z",
     "shell.execute_reply": "2022-01-23T17:53:58.969853Z",
     "shell.execute_reply.started": "2022-01-23T17:43:14.300335Z"
    },
    "papermill": {
     "duration": 7.175808,
     "end_time": "2022-01-23T17:53:58.970146",
     "exception": false,
     "start_time": "2022-01-23T17:53:51.794338",
     "status": "completed"
    },
    "tags": []
   },
   "outputs": [
    {
     "name": "stdout",
     "output_type": "stream",
     "text": [
      "--- FOLD 1 ---\n",
      "\tAUC score: 0.95768\n",
      "--- FOLD 2 ---\n",
      "\tAUC score: 0.94268\n",
      "--- FOLD 3 ---\n",
      "\tAUC score: 0.95180\n",
      "--- FOLD 4 ---\n",
      "\tAUC score: 0.95217\n",
      "--- FOLD 5 ---\n",
      "\tAUC score: 0.95169\n",
      "fold-mean AUC score: 0.95121\t fold-std AUC score: 0.00482\n",
      "\n"
     ]
    }
   ],
   "source": [
    "\n",
    "oof_pred = kfold_loop(\n",
    "    X=train_indic.drop(columns=['target', 'Id']),\n",
    "    y=train_indic['target'],\n",
    "    groups=train_indic['Id'],\n",
    "    kf=kf,\n",
    "    X_test=test_indic.drop(columns=['Id']),\n",
    "    loop_verbose=2,\n",
    "    random_state=RANDOM_STATE,\n",
    ")"
   ]
  },
  {
   "cell_type": "code",
   "execution_count": 7,
   "id": "3b310a9b",
   "metadata": {
    "execution": {
     "iopub.execute_input": "2022-01-23T17:53:59.006100Z",
     "iopub.status.busy": "2022-01-23T17:53:59.005517Z",
     "iopub.status.idle": "2022-01-23T17:53:59.007996Z",
     "shell.execute_reply": "2022-01-23T17:53:59.007506Z",
     "shell.execute_reply.started": "2022-01-23T17:47:40.761163Z"
    },
    "papermill": {
     "duration": 0.021181,
     "end_time": "2022-01-23T17:53:59.008105",
     "exception": false,
     "start_time": "2022-01-23T17:53:58.986924",
     "status": "completed"
    },
    "tags": []
   },
   "outputs": [],
   "source": [
    "def save_sub(predicted, ids, sub_name):\n",
    "    sub = pd.DataFrame({'Id': ids, 'Predicted': predicted})\n",
    "    sub.groupby(by='Id').agg('mean').to_csv(f'{sub_name}.csv')"
   ]
  },
  {
   "cell_type": "code",
   "execution_count": 8,
   "id": "ba72a816",
   "metadata": {
    "execution": {
     "iopub.execute_input": "2022-01-23T17:53:59.043247Z",
     "iopub.status.busy": "2022-01-23T17:53:59.040776Z",
     "iopub.status.idle": "2022-01-23T17:53:59.082558Z",
     "shell.execute_reply": "2022-01-23T17:53:59.081999Z",
     "shell.execute_reply.started": "2022-01-23T17:47:41.183680Z"
    },
    "papermill": {
     "duration": 0.059957,
     "end_time": "2022-01-23T17:53:59.082696",
     "exception": false,
     "start_time": "2022-01-23T17:53:59.022739",
     "status": "completed"
    },
    "tags": []
   },
   "outputs": [],
   "source": [
    "save_sub(oof_pred[0].mean(axis=1), test_indic['Id'], sub_name='oof_test')\n",
    "save_sub(oof_pred[-2], train_indic['Id'], sub_name='oof_train')"
   ]
  }
 ],
 "metadata": {
  "kernelspec": {
   "display_name": "Python 3",
   "language": "python",
   "name": "python3"
  },
  "language_info": {
   "codemirror_mode": {
    "name": "ipython",
    "version": 3
   },
   "file_extension": ".py",
   "mimetype": "text/x-python",
   "name": "python",
   "nbconvert_exporter": "python",
   "pygments_lexer": "ipython3",
   "version": "3.7.12"
  },
  "papermill": {
   "default_parameters": {},
   "duration": 22.087583,
   "end_time": "2022-01-23T17:54:00.108928",
   "environment_variables": {},
   "exception": null,
   "input_path": "__notebook__.ipynb",
   "output_path": "__notebook__.ipynb",
   "parameters": {},
   "start_time": "2022-01-23T17:53:38.021345",
   "version": "2.3.3"
  }
 },
 "nbformat": 4,
 "nbformat_minor": 5
}
